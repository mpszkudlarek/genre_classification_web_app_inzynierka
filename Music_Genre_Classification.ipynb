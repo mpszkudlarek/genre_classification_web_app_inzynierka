{
 "nbformat": 4,
 "nbformat_minor": 0,
 "metadata": {
  "colab": {
   "name": "Music_Genre_Classification.ipynb",
   "provenance": [],
   "collapsed_sections": [],
   "include_colab_link": true
  },
  "kernelspec": {
   "name": "python3",
   "language": "python",
   "display_name": "Python 3 (ipykernel)"
  },
  "accelerator": "GPU"
 },
 "cells": [
  {
   "cell_type": "markdown",
   "source": [
    "## Importing Necessary Libraries\n",
    "Import statements for the necessary libraries:\n",
    "- Standard libraries like `json` for handling JSON files.\n",
    "- Third-party libraries such as `numpy`, `matplotlib`, `seaborn`, `tensorflow`, and `sklearn` for data manipulation, visualization, machine learning, and deep learning tasks.\n",
    "\n"
   ],
   "metadata": {
    "collapsed": false
   }
  },
  {
   "cell_type": "code",
   "execution_count": 34,
   "outputs": [],
   "source": [
    "import json\n",
    "\n",
    "import numpy as np\n",
    "import matplotlib.pyplot as plt\n",
    "import seaborn as sn\n",
    "import tensorflow as tf\n",
    "from sklearn.metrics import confusion_matrix, accuracy_score\n",
    "from sklearn.model_selection import train_test_split\n",
    "import tensorflow.keras as keras"
   ],
   "metadata": {
    "collapsed": false,
    "ExecuteTime": {
     "end_time": "2023-12-05T12:01:01.817592800Z",
     "start_time": "2023-12-05T12:01:01.800564900Z"
    }
   }
  },
  {
   "cell_type": "markdown",
   "source": [
    "## Specifying the Dataset Path\n",
    "This line sets the path to the dataset:\n",
    "- `json_data_path` (str): The file path to the JSON file containing the dataset.\n"
   ],
   "metadata": {
    "collapsed": false
   }
  },
  {
   "cell_type": "code",
   "execution_count": 35,
   "outputs": [],
   "source": [
    "music_data_json_path = \"git.json\""
   ],
   "metadata": {
    "collapsed": false,
    "ExecuteTime": {
     "end_time": "2023-12-05T12:01:02.790877200Z",
     "start_time": "2023-12-05T12:01:02.785387300Z"
    }
   }
  },
  {
   "cell_type": "markdown",
   "source": [
    "## Configuring TensorFlow for GPU Usage\n",
    "Two functions are defined here to configure and test TensorFlow's GPU usage:\n",
    "\n",
    "1. `configure_gpu`: This function checks for the availability of a GPU and configures TensorFlow to use it if available. It returns `True` if a GPU is configured, otherwise `False`. Exception handling is included to catch and print any errors during configuration.\n",
    "\n",
    "2. `gpu_test_computation`: This function performs a simple test computation on the GPU, if available. It multiplies two tensors and prints the result to demonstrate that the GPU is being used.\n",
    "\n",
    "After defining these functions, TensorFlow's version is printed, and `configure_gpu` is called to configure the GPU. If successful, `gpu_test_computation` is executed to demonstrate GPU computation."
   ],
   "metadata": {
    "collapsed": false
   }
  },
  {
   "cell_type": "code",
   "execution_count": 36,
   "outputs": [
    {
     "name": "stdout",
     "output_type": "stream",
     "text": [
      "TensorFlow Version: 2.10.1\n",
      "Result of GPU computation: [5. 8. 9. 8. 5.]\n"
     ]
    }
   ],
   "source": [
    "def configure_gpu():\n",
    "    try:\n",
    "        gpu_devices = tf.config.experimental.list_physical_devices('GPU')\n",
    "        if not gpu_devices:\n",
    "            print(\"No GPU devices found. TensorFlow will use CPU.\")\n",
    "            return False\n",
    "        tf.config.experimental.set_visible_devices(gpu_devices[0], 'GPU')\n",
    "        return True\n",
    "    except Exception as e:\n",
    "        print(f\"Error configuring TensorFlow to use GPU: {e}\")\n",
    "        return False\n",
    "\n",
    "\n",
    "def gpu_test_computation():\n",
    "    with tf.device('/GPU:0'):\n",
    "        a = tf.constant([1.0, 2.0, 3.0, 4.0, 5.0])\n",
    "        b = tf.constant([5.0, 4.0, 3.0, 2.0, 1.0])\n",
    "        c = a * b\n",
    "        print(\"Result of GPU computation:\", c.numpy())\n",
    "\n",
    "\n",
    "print(f\"TensorFlow Version: {tf.__version__}\")\n",
    "if configure_gpu():\n",
    "    gpu_test_computation()\n"
   ],
   "metadata": {
    "collapsed": false,
    "ExecuteTime": {
     "end_time": "2023-12-05T12:01:03.847071500Z",
     "start_time": "2023-12-05T12:01:03.831044Z"
    }
   }
  },
  {
   "cell_type": "markdown",
   "source": [
    "## Loading Data from JSON\n",
    "The function `load_data` is designed to load the dataset from a JSON file. It takes a single argument:\n",
    "- `data_path` (str): The file path to the JSON dataset.\n",
    "\n",
    "The function returns a tuple containing two elements:\n",
    "- `X`: A NumPy array of extracted features (mfccs).\n",
    "- `Y`: A NumPy array of corresponding labels.\n"
   ],
   "metadata": {
    "collapsed": false
   }
  },
  {
   "cell_type": "code",
   "metadata": {
    "id": "bIpHrM9qDbb2",
    "ExecuteTime": {
     "end_time": "2023-12-05T12:01:16.995400300Z",
     "start_time": "2023-12-05T12:01:04.820446600Z"
    }
   },
   "source": [
    "def load_music_data(data_path):\n",
    "    with open(data_path, \"r\") as file:\n",
    "        data = json.load(file)\n",
    "\n",
    "    features = np.array(data[\"mfcc\"])\n",
    "    labels = np.array(data[\"labels\"])\n",
    "    print('Data successfully loaded')\n",
    "    return features, labels\n",
    "\n",
    "\n",
    "try:\n",
    "    features, labels = load_music_data(music_data_json_path)\n",
    "except Exception as e:\n",
    "    print(f\"Error loading data: {e}\")"
   ],
   "execution_count": 37,
   "outputs": [
    {
     "name": "stdout",
     "output_type": "stream",
     "text": [
      "Data successfully loaded\n"
     ]
    }
   ]
  },
  {
   "cell_type": "markdown",
   "source": [
    "## Splitting Data into Training, Validation, and Test Sets\n",
    "The `split_data` function divides the dataset into training, validation, and test sets.\n",
    "\n",
    "Args:\n",
    "- `test_size` (float): Proportion of the dataset to include in the test split.\n",
    "- `validation_size` (float): Proportion of the training set to include in the validation split.\n",
    "\n",
    "Returns:\n",
    "- Tuple containing six datasets: `X_train`, `X_validation`, `X_test`, `y_train`, `y_validation`, and `y_test`.\n",
    "\n"
   ],
   "metadata": {
    "collapsed": false
   }
  },
  {
   "cell_type": "code",
   "metadata": {
    "id": "sWLsFWkaFUgt",
    "ExecuteTime": {
     "end_time": "2023-12-05T12:01:17.053419500Z",
     "start_time": "2023-12-05T12:01:16.996906600Z"
    }
   },
   "source": [
    "def split_dataset(test_size, validation_size):\n",
    "    features, labels = load_music_data(music_data_json_path)\n",
    "\n",
    "    features_train, features_test, labels_train, labels_test = train_test_split(features, labels, test_size=test_size)\n",
    "    features_train, features_validation, labels_train, labels_validation = train_test_split(features_train, labels_train, test_size=validation_size)\n",
    "\n",
    "    features_train = features_train[..., np.newaxis]\n",
    "    features_validation = features_validation[..., np.newaxis]\n",
    "    features_test = features_test[..., np.newaxis]\n",
    "\n",
    "    return features_train, features_validation, features_test, labels_train, labels_validation, labels_test"
   ],
   "execution_count": 38,
   "outputs": []
  },
  {
   "cell_type": "markdown",
   "source": [
    "## Function for Plotting Training History\n",
    "The `plot_history` function is designed for visualizing the training history of a machine learning model. Its parameters are as follows:\n",
    "\n",
    "- `history` (History object): The training history returned by the `fit` method of a Keras model. Contains metrics recorded during training.\n",
    "- `metrics` (list of str): Specifies the list of metrics to plot. Default is `['loss', 'accuracy']`. This allows for flexibility in choosing which metrics to visualize.\n",
    "- `figsize` (tuple): Determines the size of the figure. This parameter allows customization of the plot's dimensions.\n",
    "- `save_path` (str): The file path for saving the plot image. This provides flexibility in specifying where to save the generated plot.\n",
    "\n",
    "The function generates a plot for each specified metric, comparing training and validation results. It saves the plot as an image at the specified `save_path` and displays it inline.\n",
    "\n"
   ],
   "metadata": {
    "collapsed": false
   }
  },
  {
   "cell_type": "code",
   "metadata": {
    "id": "xNBKkW1BD1H3",
    "ExecuteTime": {
     "end_time": "2023-12-05T12:01:17.054420400Z",
     "start_time": "2023-12-05T12:01:17.015295300Z"
    }
   },
   "source": [
    "def plot_training_history(history, save_path, metrics=None, figsize=(16, 10)):\n",
    "    if metrics is None:\n",
    "        metrics = ['loss', 'accuracy']\n",
    "\n",
    "    sn.set(style=\"whitegrid\")\n",
    "    plt.figure(figsize=figsize)\n",
    "\n",
    "    color_palette = ['#E28F83', '#83C5BE', '#F9D276', '#76B7F9']\n",
    "\n",
    "    for i, metric in enumerate(metrics):\n",
    "        if metric not in history.history:\n",
    "            print(f\"Warning: '{metric}' not found in history.\")\n",
    "            continue\n",
    "\n",
    "        plt.subplot(2, 1, i + 1)\n",
    "        plt.subplots_adjust(hspace=0.5)\n",
    "\n",
    "        plt.plot(history.history[metric], label=f'Train {metric.capitalize()}', color=color_palette[2 * i], linewidth=2)\n",
    "        val_metric = f'val_{metric}'\n",
    "        if val_metric in history.history:\n",
    "            plt.plot(history.history[val_metric], label=f'Validation {metric.capitalize()}', color=color_palette[2 * i + 1], linewidth=2)\n",
    "\n",
    "        plt.legend(frameon=True)\n",
    "        plt.title(f'Training and Validation {metric.capitalize()}', fontsize=16)\n",
    "        plt.xlabel('Epoch', fontsize=12)\n",
    "        plt.ylabel(metric.capitalize(), fontsize=12)\n",
    "        plt.xticks(fontsize=10)\n",
    "        plt.yticks(fontsize=10)\n",
    "\n",
    "    plt.savefig(save_path, dpi=300, bbox_inches='tight')\n",
    "    plt.show()"
   ],
   "execution_count": 39,
   "outputs": []
  },
  {
   "cell_type": "code",
   "execution_count": 40,
   "outputs": [],
   "source": [
    "def plot_heatmap(cm, genre_labels, save_path):\n",
    "    plt.figure(figsize=(10, 7))\n",
    "    sn.set(font_scale=1.1)\n",
    "    ax = sn.heatmap(cm, annot=True, fmt='d', cmap=\"Blues\", linewidths=.5)\n",
    "    plt.xlabel('Predicted')\n",
    "    plt.ylabel('Truth')\n",
    "\n",
    "    ax.set_xticklabels(genre_labels, rotation=45, ha='right')\n",
    "    ax.set_yticklabels(genre_labels, rotation=0)\n",
    "\n",
    "    plt.tight_layout()\n",
    "    plt.savefig(save_path, dpi=300, bbox_inches='tight')\n",
    "    plt.show()\n"
   ],
   "metadata": {
    "collapsed": false,
    "ExecuteTime": {
     "end_time": "2023-12-05T12:01:17.054420400Z",
     "start_time": "2023-12-05T12:01:17.028863700Z"
    }
   }
  },
  {
   "cell_type": "markdown",
   "source": [
    "## Constructing a Convolutional Neural Network\n",
    "\n",
    "The `build_model` function defines a convolutional neural network (CNN) for classification tasks. Key aspects of the function include:\n",
    "\n",
    "- `input_shape` (tuple): The shape of the input data fed into the CNN.\n",
    "- `num_classes` (int): The number of output classes for the classification.\n",
    "\n",
    "The CNN architecture includes:\n",
    "- Three convolutional layers, each followed by max-pooling, batch normalization, and dropout layers.\n",
    "- After flattening the output from the convolutional layers, the network includes a dense layer with L2 regularization, followed by a dropout layer.\n",
    "- The final layer is a dense layer with a softmax activation function, suitable for multi-class classification."
   ],
   "metadata": {
    "collapsed": false
   }
  },
  {
   "cell_type": "code",
   "execution_count": 45,
   "outputs": [],
   "source": [
    "def build_genre_classification_model(input_shape):\n",
    "    model = keras.Sequential()\n",
    "\n",
    "    model.add(keras.layers.Conv2D(64, (3, 3), activation='relu', input_shape=input_shape))\n",
    "    model.add(keras.layers.MaxPooling2D((3, 3), strides=(2, 2), padding='same'))\n",
    "    model.add(keras.layers.BatchNormalization())\n",
    "    model.add(keras.layers.Dropout(0.3))\n",
    "\n",
    "    model.add(keras.layers.Conv2D(128, (3, 3), activation='relu'))\n",
    "    model.add(keras.layers.MaxPooling2D((3, 3), strides=(2, 2), padding='same'))\n",
    "    model.add(keras.layers.BatchNormalization())\n",
    "    model.add(keras.layers.Dropout(0.3))\n",
    "\n",
    "    model.add(keras.layers.Conv2D(256, (2, 2), activation='relu'))\n",
    "    model.add(keras.layers.MaxPooling2D((2, 2), strides=(2, 2), padding='same'))\n",
    "    model.add(keras.layers.BatchNormalization())\n",
    "    model.add(keras.layers.Dropout(0.3))\n",
    "\n",
    "    model.add(keras.layers.Flatten())\n",
    "    model.add(keras.layers.Dense(128, activation='relu', kernel_regularizer=keras.regularizers.l2(0.001)))\n",
    "    model.add(keras.layers.Dropout(0.3))\n",
    "\n",
    "    model.add(keras.layers.Dense(64, activation='relu'))\n",
    "    model.add(keras.layers.Dropout(0.3))\n",
    "\n",
    "    model.add(keras.layers.Dense(10, activation='softmax'))\n",
    "\n",
    "    return model"
   ],
   "metadata": {
    "collapsed": false,
    "ExecuteTime": {
     "end_time": "2023-12-05T12:02:06.584207600Z",
     "start_time": "2023-12-05T12:02:06.558158700Z"
    }
   }
  },
  {
   "cell_type": "markdown",
   "source": [
    "## Making Predictions with the Model\n",
    "The `predict_genre` function is designed to make predictions using a trained machine learning model:\n",
    "- `model`: The pre-trained model to use for making predictions.\n",
    "- `features`: The input data for which predictions are to be made. It is expected to be in a format compatible with the model's input shape.\n",
    "- `label`: The true label associated with the input data."
   ],
   "metadata": {
    "collapsed": false
   }
  },
  {
   "cell_type": "code",
   "metadata": {
    "id": "Pp-QkbLJJzxU",
    "ExecuteTime": {
     "end_time": "2023-12-05T12:02:08.530396400Z",
     "start_time": "2023-12-05T12:02:08.514376500Z"
    }
   },
   "source": [
    "genres = ['BLUES', 'CLASSICAL', 'COUNTRY', 'DISCO', 'HIPHOP', 'JAZZ', 'METAL', 'POP', 'REGGAE', 'ROCK']\n",
    "\n",
    "def predict_genre(model, features, label):\n",
    "    features = features[np.newaxis, ...]\n",
    "\n",
    "    prediction = model.predict(features)\n",
    "    predicted_genre_index = np.argmax(prediction, axis=1)\n",
    "\n",
    "    actual_genre = genres[label.item()]\n",
    "    predicted_genre = genres[predicted_genre_index.item()]\n",
    "\n",
    "    print(f\"Actual Genre: {actual_genre}, Predicted Genre: {predicted_genre}\")"
   ],
   "execution_count": 46,
   "outputs": []
  },
  {
   "cell_type": "markdown",
   "metadata": {
    "id": "DViXAFRzK_do"
   },
   "source": [
    "## Data Splitting and Model Setup\n",
    "This code snippet performs data splitting and sets up a machine learning model for training. It calls the following functions:\n",
    "\n",
    "- `split_data(test_size, validation_size)`:\n",
    "  - Args:\n",
    "    - `test_size` (float): Proportion of the dataset to include in the test split.\n",
    "    - `validation_size` (float): Proportion of the training set to include in the validation split.\n",
    "  - Returns:\n",
    "    - A tuple containing six datasets: `X_train`, `X_validation`, `X_test`, `y_train`, `y_validation`, `y_test`.\n",
    "\n",
    "- `build_model(input_shape)`:\n",
    "  - Args:\n",
    "    - `input_shape` (tuple): Shape of the input data for the model.\n",
    "  - Returns:\n",
    "    - The constructed machine learning model.\n",
    "\n",
    "- Model Compilation (`model.compile`):\n",
    "  - Args:\n",
    "    - `optimizer` (Adam with a learning rate of 0.0001): Specifies the optimization algorithm.\n",
    "    - `loss` ('sparse_categorical_crossentropy'): Defines the loss function for training.\n",
    "    - `metrics` (['accuracy']): Specifies evaluation metrics.\n"
   ]
  },
  {
   "cell_type": "code",
   "execution_count": 47,
   "outputs": [
    {
     "name": "stdout",
     "output_type": "stream",
     "text": [
      "Data successfully loaded\n"
     ]
    }
   ],
   "source": [
    "features_train, features_validation, features_test, labels_train, labels_validation, labels_test = split_dataset(0.2, 0.2)"
   ],
   "metadata": {
    "collapsed": false,
    "ExecuteTime": {
     "end_time": "2023-12-05T12:02:21.088954600Z",
     "start_time": "2023-12-05T12:02:10.180811200Z"
    }
   }
  },
  {
   "cell_type": "code",
   "execution_count": 48,
   "outputs": [],
   "source": [
    "input_shape = (features_train.shape[1], features_train.shape[2], 1)\n",
    "genre_classification_model = build_genre_classification_model(input_shape)\n",
    "\n",
    "optimizer = keras.optimizers.Adam(learning_rate=0.0001)\n",
    "genre_classification_model.compile(optimizer=optimizer, loss='sparse_categorical_crossentropy', metrics=['accuracy'])\n"
   ],
   "metadata": {
    "collapsed": false,
    "ExecuteTime": {
     "end_time": "2023-12-05T12:02:21.201089500Z",
     "start_time": "2023-12-05T12:02:21.089955500Z"
    }
   }
  },
  {
   "cell_type": "code",
   "execution_count": 49,
   "outputs": [
    {
     "name": "stdout",
     "output_type": "stream",
     "text": [
      "Model: \"sequential_1\"\n",
      "_________________________________________________________________\n",
      " Layer (type)                Output Shape              Param #   \n",
      "=================================================================\n",
      " conv2d_3 (Conv2D)           (None, 128, 11, 64)       640       \n",
      "                                                                 \n",
      " max_pooling2d_3 (MaxPooling  (None, 64, 6, 64)        0         \n",
      " 2D)                                                             \n",
      "                                                                 \n",
      " batch_normalization_3 (Batc  (None, 64, 6, 64)        256       \n",
      " hNormalization)                                                 \n",
      "                                                                 \n",
      " dropout_5 (Dropout)         (None, 64, 6, 64)         0         \n",
      "                                                                 \n",
      " conv2d_4 (Conv2D)           (None, 62, 4, 128)        73856     \n",
      "                                                                 \n",
      " max_pooling2d_4 (MaxPooling  (None, 31, 2, 128)       0         \n",
      " 2D)                                                             \n",
      "                                                                 \n",
      " batch_normalization_4 (Batc  (None, 31, 2, 128)       512       \n",
      " hNormalization)                                                 \n",
      "                                                                 \n",
      " dropout_6 (Dropout)         (None, 31, 2, 128)        0         \n",
      "                                                                 \n",
      " conv2d_5 (Conv2D)           (None, 30, 1, 256)        131328    \n",
      "                                                                 \n",
      " max_pooling2d_5 (MaxPooling  (None, 15, 1, 256)       0         \n",
      " 2D)                                                             \n",
      "                                                                 \n",
      " batch_normalization_5 (Batc  (None, 15, 1, 256)       1024      \n",
      " hNormalization)                                                 \n",
      "                                                                 \n",
      " dropout_7 (Dropout)         (None, 15, 1, 256)        0         \n",
      "                                                                 \n",
      " flatten_1 (Flatten)         (None, 3840)              0         \n",
      "                                                                 \n",
      " dense_3 (Dense)             (None, 128)               491648    \n",
      "                                                                 \n",
      " dropout_8 (Dropout)         (None, 128)               0         \n",
      "                                                                 \n",
      " dense_4 (Dense)             (None, 64)                8256      \n",
      "                                                                 \n",
      " dropout_9 (Dropout)         (None, 64)                0         \n",
      "                                                                 \n",
      " dense_5 (Dense)             (None, 10)                650       \n",
      "                                                                 \n",
      "=================================================================\n",
      "Total params: 708,170\n",
      "Trainable params: 707,274\n",
      "Non-trainable params: 896\n",
      "_________________________________________________________________\n"
     ]
    }
   ],
   "source": [
    "genre_classification_model.summary()"
   ],
   "metadata": {
    "collapsed": false,
    "ExecuteTime": {
     "end_time": "2023-12-05T12:02:24.339548700Z",
     "start_time": "2023-12-05T12:02:24.277882200Z"
    }
   }
  },
  {
   "cell_type": "code",
   "metadata": {
    "colab": {
     "base_uri": "https://localhost:8080/"
    },
    "id": "GNaIIDU_KMnL",
    "outputId": "9b99fa79-b04d-4501-cccb-707eb59be7b9",
    "is_executing": true,
    "ExecuteTime": {
     "start_time": "2023-12-05T12:02:26.943256700Z"
    }
   },
   "source": [
    "training_history = genre_classification_model.fit(features_train, labels_train, validation_data=(features_validation, labels_validation), batch_size=32, epochs=150)"
   ],
   "execution_count": null,
   "outputs": [
    {
     "name": "stdout",
     "output_type": "stream",
     "text": [
      "Epoch 1/150\n",
      "200/200 [==============================] - 3s 9ms/step - loss: 2.7000 - accuracy: 0.2283 - val_loss: 1.9661 - val_accuracy: 0.4244\n",
      "Epoch 2/150\n",
      "200/200 [==============================] - 1s 6ms/step - loss: 2.2328 - accuracy: 0.3238 - val_loss: 1.8692 - val_accuracy: 0.4225\n",
      "Epoch 3/150\n",
      "200/200 [==============================] - 1s 7ms/step - loss: 2.0238 - accuracy: 0.3810 - val_loss: 1.7910 - val_accuracy: 0.4288\n",
      "Epoch 4/150\n",
      "200/200 [==============================] - 1s 7ms/step - loss: 1.9183 - accuracy: 0.4192 - val_loss: 1.6850 - val_accuracy: 0.4550\n",
      "Epoch 5/150\n",
      "200/200 [==============================] - 1s 7ms/step - loss: 1.8179 - accuracy: 0.4423 - val_loss: 1.7068 - val_accuracy: 0.4450\n",
      "Epoch 6/150\n",
      "200/200 [==============================] - 1s 7ms/step - loss: 1.7584 - accuracy: 0.4579 - val_loss: 1.6910 - val_accuracy: 0.4387\n",
      "Epoch 7/150\n",
      "200/200 [==============================] - 1s 7ms/step - loss: 1.6931 - accuracy: 0.4912 - val_loss: 1.6992 - val_accuracy: 0.4588\n",
      "Epoch 8/150\n",
      "200/200 [==============================] - 1s 7ms/step - loss: 1.6680 - accuracy: 0.4906 - val_loss: 1.6728 - val_accuracy: 0.4569\n",
      "Epoch 9/150\n",
      "200/200 [==============================] - 1s 7ms/step - loss: 1.5985 - accuracy: 0.5167 - val_loss: 1.5978 - val_accuracy: 0.5069\n",
      "Epoch 10/150\n",
      "200/200 [==============================] - 1s 7ms/step - loss: 1.5328 - accuracy: 0.5364 - val_loss: 1.6538 - val_accuracy: 0.4837\n",
      "Epoch 11/150\n",
      "200/200 [==============================] - 1s 6ms/step - loss: 1.5072 - accuracy: 0.5505 - val_loss: 1.6235 - val_accuracy: 0.4913\n",
      "Epoch 12/150\n",
      "200/200 [==============================] - 1s 6ms/step - loss: 1.4634 - accuracy: 0.5596 - val_loss: 1.5922 - val_accuracy: 0.5031\n",
      "Epoch 13/150\n",
      "200/200 [==============================] - 1s 6ms/step - loss: 1.4346 - accuracy: 0.5740 - val_loss: 1.5507 - val_accuracy: 0.5375\n",
      "Epoch 14/150\n",
      "200/200 [==============================] - 1s 6ms/step - loss: 1.4036 - accuracy: 0.5869 - val_loss: 1.4031 - val_accuracy: 0.5669\n",
      "Epoch 15/150\n",
      "200/200 [==============================] - 1s 6ms/step - loss: 1.3505 - accuracy: 0.6099 - val_loss: 1.3701 - val_accuracy: 0.5894\n",
      "Epoch 16/150\n",
      "200/200 [==============================] - 1s 6ms/step - loss: 1.3410 - accuracy: 0.6060 - val_loss: 1.4404 - val_accuracy: 0.5606\n",
      "Epoch 17/150\n",
      "200/200 [==============================] - 1s 6ms/step - loss: 1.3103 - accuracy: 0.6176 - val_loss: 1.3771 - val_accuracy: 0.5900\n",
      "Epoch 18/150\n",
      "200/200 [==============================] - 1s 6ms/step - loss: 1.2854 - accuracy: 0.6312 - val_loss: 1.3980 - val_accuracy: 0.5881\n",
      "Epoch 19/150\n",
      "200/200 [==============================] - 1s 6ms/step - loss: 1.2447 - accuracy: 0.6418 - val_loss: 1.3217 - val_accuracy: 0.5994\n",
      "Epoch 20/150\n",
      "200/200 [==============================] - 1s 6ms/step - loss: 1.2121 - accuracy: 0.6520 - val_loss: 1.3010 - val_accuracy: 0.6175\n",
      "Epoch 21/150\n",
      "200/200 [==============================] - 1s 6ms/step - loss: 1.1985 - accuracy: 0.6606 - val_loss: 1.2829 - val_accuracy: 0.6256\n",
      "Epoch 22/150\n",
      "200/200 [==============================] - 1s 6ms/step - loss: 1.1618 - accuracy: 0.6667 - val_loss: 1.2455 - val_accuracy: 0.6525\n",
      "Epoch 23/150\n",
      "200/200 [==============================] - 1s 6ms/step - loss: 1.1369 - accuracy: 0.6804 - val_loss: 1.2863 - val_accuracy: 0.6231\n",
      "Epoch 24/150\n",
      "200/200 [==============================] - 1s 7ms/step - loss: 1.1261 - accuracy: 0.6795 - val_loss: 1.1797 - val_accuracy: 0.6594\n",
      "Epoch 25/150\n",
      "200/200 [==============================] - 1s 7ms/step - loss: 1.0879 - accuracy: 0.6976 - val_loss: 1.3074 - val_accuracy: 0.6250\n",
      "Epoch 26/150\n",
      "200/200 [==============================] - 1s 7ms/step - loss: 1.0882 - accuracy: 0.6920 - val_loss: 1.2230 - val_accuracy: 0.6556\n",
      "Epoch 27/150\n",
      "200/200 [==============================] - 1s 7ms/step - loss: 1.0646 - accuracy: 0.7043 - val_loss: 1.1027 - val_accuracy: 0.6862\n",
      "Epoch 28/150\n",
      "200/200 [==============================] - 1s 7ms/step - loss: 1.0488 - accuracy: 0.7114 - val_loss: 1.1226 - val_accuracy: 0.6869\n",
      "Epoch 29/150\n",
      "200/200 [==============================] - 1s 7ms/step - loss: 1.0304 - accuracy: 0.7144 - val_loss: 1.0600 - val_accuracy: 0.7106\n",
      "Epoch 30/150\n",
      "200/200 [==============================] - 2s 8ms/step - loss: 0.9855 - accuracy: 0.7287 - val_loss: 1.1908 - val_accuracy: 0.6637\n",
      "Epoch 31/150\n",
      "200/200 [==============================] - 2s 8ms/step - loss: 0.9688 - accuracy: 0.7375 - val_loss: 1.0348 - val_accuracy: 0.7181\n",
      "Epoch 32/150\n",
      "200/200 [==============================] - 1s 7ms/step - loss: 0.9533 - accuracy: 0.7436 - val_loss: 1.0990 - val_accuracy: 0.7075\n",
      "Epoch 33/150\n",
      "200/200 [==============================] - 1s 7ms/step - loss: 0.9243 - accuracy: 0.7508 - val_loss: 1.1195 - val_accuracy: 0.6888\n",
      "Epoch 34/150\n",
      "200/200 [==============================] - 1s 7ms/step - loss: 0.9099 - accuracy: 0.7536 - val_loss: 1.0014 - val_accuracy: 0.7281\n",
      "Epoch 35/150\n",
      "200/200 [==============================] - 1s 7ms/step - loss: 0.9063 - accuracy: 0.7545 - val_loss: 1.0952 - val_accuracy: 0.7081\n",
      "Epoch 36/150\n",
      "200/200 [==============================] - 1s 7ms/step - loss: 0.9036 - accuracy: 0.7600 - val_loss: 0.9744 - val_accuracy: 0.7475\n",
      "Epoch 37/150\n",
      "200/200 [==============================] - 1s 7ms/step - loss: 0.8692 - accuracy: 0.7678 - val_loss: 1.0170 - val_accuracy: 0.7294\n",
      "Epoch 38/150\n",
      "200/200 [==============================] - 1s 7ms/step - loss: 0.8459 - accuracy: 0.7714 - val_loss: 0.9689 - val_accuracy: 0.7419\n",
      "Epoch 39/150\n",
      "200/200 [==============================] - 1s 7ms/step - loss: 0.8271 - accuracy: 0.7791 - val_loss: 0.9386 - val_accuracy: 0.7481\n",
      "Epoch 40/150\n",
      "200/200 [==============================] - 1s 7ms/step - loss: 0.8101 - accuracy: 0.7880 - val_loss: 1.0245 - val_accuracy: 0.7256\n",
      "Epoch 41/150\n",
      "200/200 [==============================] - 1s 7ms/step - loss: 0.8147 - accuracy: 0.7813 - val_loss: 0.8843 - val_accuracy: 0.7625\n",
      "Epoch 42/150\n",
      "200/200 [==============================] - 1s 7ms/step - loss: 0.7983 - accuracy: 0.7917 - val_loss: 0.8874 - val_accuracy: 0.7625\n",
      "Epoch 43/150\n",
      "200/200 [==============================] - 1s 7ms/step - loss: 0.7913 - accuracy: 0.7921 - val_loss: 0.9086 - val_accuracy: 0.7644\n",
      "Epoch 44/150\n",
      "200/200 [==============================] - 1s 7ms/step - loss: 0.7669 - accuracy: 0.7983 - val_loss: 0.8723 - val_accuracy: 0.7706\n",
      "Epoch 45/150\n",
      "200/200 [==============================] - 1s 7ms/step - loss: 0.7554 - accuracy: 0.8036 - val_loss: 0.9395 - val_accuracy: 0.7544\n",
      "Epoch 46/150\n",
      "200/200 [==============================] - 1s 7ms/step - loss: 0.7484 - accuracy: 0.8008 - val_loss: 0.8960 - val_accuracy: 0.7631\n",
      "Epoch 47/150\n",
      "200/200 [==============================] - 1s 7ms/step - loss: 0.7386 - accuracy: 0.8077 - val_loss: 0.9424 - val_accuracy: 0.7406\n",
      "Epoch 48/150\n",
      "200/200 [==============================] - 1s 7ms/step - loss: 0.7341 - accuracy: 0.8091 - val_loss: 0.8936 - val_accuracy: 0.7569\n",
      "Epoch 49/150\n",
      "200/200 [==============================] - 1s 7ms/step - loss: 0.7261 - accuracy: 0.8080 - val_loss: 0.8926 - val_accuracy: 0.7700\n",
      "Epoch 50/150\n",
      "200/200 [==============================] - 1s 7ms/step - loss: 0.7021 - accuracy: 0.8204 - val_loss: 0.9683 - val_accuracy: 0.7269\n",
      "Epoch 51/150\n",
      "200/200 [==============================] - 1s 7ms/step - loss: 0.6871 - accuracy: 0.8246 - val_loss: 0.9001 - val_accuracy: 0.7613\n",
      "Epoch 52/150\n",
      "200/200 [==============================] - 1s 7ms/step - loss: 0.6717 - accuracy: 0.8268 - val_loss: 0.8095 - val_accuracy: 0.7869\n",
      "Epoch 53/150\n",
      "200/200 [==============================] - 1s 7ms/step - loss: 0.6499 - accuracy: 0.8352 - val_loss: 0.8830 - val_accuracy: 0.7700\n",
      "Epoch 54/150\n",
      "200/200 [==============================] - 1s 7ms/step - loss: 0.6310 - accuracy: 0.8451 - val_loss: 0.8515 - val_accuracy: 0.7744\n",
      "Epoch 55/150\n",
      "200/200 [==============================] - 1s 7ms/step - loss: 0.6392 - accuracy: 0.8376 - val_loss: 0.8294 - val_accuracy: 0.7831\n",
      "Epoch 56/150\n",
      "200/200 [==============================] - 1s 7ms/step - loss: 0.6083 - accuracy: 0.8493 - val_loss: 0.8374 - val_accuracy: 0.7837\n",
      "Epoch 57/150\n",
      "200/200 [==============================] - 1s 7ms/step - loss: 0.6031 - accuracy: 0.8505 - val_loss: 0.8496 - val_accuracy: 0.7819\n",
      "Epoch 58/150\n",
      "200/200 [==============================] - 1s 7ms/step - loss: 0.6003 - accuracy: 0.8518 - val_loss: 0.8078 - val_accuracy: 0.7987\n",
      "Epoch 59/150\n",
      "200/200 [==============================] - 1s 7ms/step - loss: 0.6001 - accuracy: 0.8501 - val_loss: 0.8839 - val_accuracy: 0.7713\n",
      "Epoch 60/150\n",
      "200/200 [==============================] - 1s 7ms/step - loss: 0.6195 - accuracy: 0.8483 - val_loss: 0.9450 - val_accuracy: 0.7581\n",
      "Epoch 61/150\n",
      "200/200 [==============================] - 1s 7ms/step - loss: 0.5888 - accuracy: 0.8558 - val_loss: 0.8318 - val_accuracy: 0.7875\n",
      "Epoch 62/150\n",
      "200/200 [==============================] - 1s 7ms/step - loss: 0.5626 - accuracy: 0.8691 - val_loss: 0.8262 - val_accuracy: 0.7881\n",
      "Epoch 63/150\n",
      "200/200 [==============================] - 1s 7ms/step - loss: 0.5696 - accuracy: 0.8593 - val_loss: 0.9406 - val_accuracy: 0.7506\n",
      "Epoch 64/150\n",
      "200/200 [==============================] - 1s 7ms/step - loss: 0.5522 - accuracy: 0.8666 - val_loss: 0.9463 - val_accuracy: 0.7513\n",
      "Epoch 65/150\n",
      "200/200 [==============================] - 1s 7ms/step - loss: 0.5447 - accuracy: 0.8638 - val_loss: 0.8290 - val_accuracy: 0.7844\n",
      "Epoch 66/150\n",
      "200/200 [==============================] - 1s 7ms/step - loss: 0.5447 - accuracy: 0.8726 - val_loss: 0.8241 - val_accuracy: 0.7912\n",
      "Epoch 67/150\n",
      "200/200 [==============================] - 1s 7ms/step - loss: 0.5315 - accuracy: 0.8727 - val_loss: 0.7824 - val_accuracy: 0.8044\n",
      "Epoch 68/150\n",
      "200/200 [==============================] - 1s 7ms/step - loss: 0.5267 - accuracy: 0.8702 - val_loss: 0.8007 - val_accuracy: 0.7981\n",
      "Epoch 69/150\n",
      "200/200 [==============================] - 1s 7ms/step - loss: 0.5182 - accuracy: 0.8776 - val_loss: 0.7756 - val_accuracy: 0.8012\n",
      "Epoch 70/150\n",
      "200/200 [==============================] - 1s 7ms/step - loss: 0.5087 - accuracy: 0.8824 - val_loss: 0.8673 - val_accuracy: 0.7812\n",
      "Epoch 71/150\n",
      "200/200 [==============================] - 1s 7ms/step - loss: 0.5127 - accuracy: 0.8820 - val_loss: 0.7472 - val_accuracy: 0.8138\n",
      "Epoch 72/150\n",
      "200/200 [==============================] - 1s 7ms/step - loss: 0.4937 - accuracy: 0.8846 - val_loss: 0.7717 - val_accuracy: 0.8075\n",
      "Epoch 73/150\n",
      "200/200 [==============================] - 1s 7ms/step - loss: 0.4999 - accuracy: 0.8873 - val_loss: 0.8410 - val_accuracy: 0.7937\n",
      "Epoch 74/150\n",
      "200/200 [==============================] - 1s 7ms/step - loss: 0.4893 - accuracy: 0.8873 - val_loss: 0.7526 - val_accuracy: 0.8138\n",
      "Epoch 75/150\n",
      "200/200 [==============================] - 1s 7ms/step - loss: 0.4741 - accuracy: 0.8938 - val_loss: 0.8020 - val_accuracy: 0.7950\n",
      "Epoch 76/150\n",
      "200/200 [==============================] - 1s 7ms/step - loss: 0.4637 - accuracy: 0.8970 - val_loss: 0.8000 - val_accuracy: 0.7962\n",
      "Epoch 77/150\n",
      "200/200 [==============================] - 1s 7ms/step - loss: 0.4461 - accuracy: 0.9038 - val_loss: 0.8370 - val_accuracy: 0.7994\n",
      "Epoch 78/150\n",
      "200/200 [==============================] - 1s 7ms/step - loss: 0.4594 - accuracy: 0.8902 - val_loss: 0.8718 - val_accuracy: 0.7919\n",
      "Epoch 79/150\n",
      "200/200 [==============================] - 1s 7ms/step - loss: 0.4753 - accuracy: 0.8884 - val_loss: 0.7757 - val_accuracy: 0.8094\n",
      "Epoch 80/150\n",
      "200/200 [==============================] - 1s 7ms/step - loss: 0.4445 - accuracy: 0.8982 - val_loss: 0.7263 - val_accuracy: 0.8219\n",
      "Epoch 81/150\n",
      "200/200 [==============================] - 1s 7ms/step - loss: 0.4258 - accuracy: 0.9079 - val_loss: 0.7526 - val_accuracy: 0.8188\n",
      "Epoch 82/150\n",
      "200/200 [==============================] - 1s 7ms/step - loss: 0.4264 - accuracy: 0.9071 - val_loss: 0.7770 - val_accuracy: 0.8100\n",
      "Epoch 83/150\n",
      "200/200 [==============================] - 1s 7ms/step - loss: 0.4307 - accuracy: 0.9074 - val_loss: 0.7534 - val_accuracy: 0.8163\n",
      "Epoch 84/150\n",
      "200/200 [==============================] - 1s 7ms/step - loss: 0.4253 - accuracy: 0.9063 - val_loss: 0.7407 - val_accuracy: 0.8169\n",
      "Epoch 85/150\n",
      "200/200 [==============================] - 1s 7ms/step - loss: 0.3985 - accuracy: 0.9165 - val_loss: 0.7906 - val_accuracy: 0.7937\n",
      "Epoch 86/150\n",
      "200/200 [==============================] - 1s 7ms/step - loss: 0.4010 - accuracy: 0.9176 - val_loss: 0.8431 - val_accuracy: 0.7994\n",
      "Epoch 87/150\n",
      "200/200 [==============================] - 1s 6ms/step - loss: 0.4144 - accuracy: 0.9095 - val_loss: 0.8207 - val_accuracy: 0.7981\n",
      "Epoch 88/150\n",
      "200/200 [==============================] - 1s 7ms/step - loss: 0.4025 - accuracy: 0.9142 - val_loss: 0.8083 - val_accuracy: 0.8006\n",
      "Epoch 89/150\n",
      "200/200 [==============================] - 1s 6ms/step - loss: 0.3908 - accuracy: 0.9142 - val_loss: 0.7551 - val_accuracy: 0.8175\n",
      "Epoch 90/150\n",
      "200/200 [==============================] - 1s 7ms/step - loss: 0.3892 - accuracy: 0.9168 - val_loss: 0.7879 - val_accuracy: 0.8069\n",
      "Epoch 91/150\n",
      "200/200 [==============================] - 1s 7ms/step - loss: 0.3868 - accuracy: 0.9212 - val_loss: 0.7822 - val_accuracy: 0.8044\n",
      "Epoch 92/150\n",
      "200/200 [==============================] - 1s 6ms/step - loss: 0.3961 - accuracy: 0.9170 - val_loss: 0.7686 - val_accuracy: 0.8188\n",
      "Epoch 93/150\n",
      "200/200 [==============================] - 1s 7ms/step - loss: 0.3630 - accuracy: 0.9270 - val_loss: 0.7410 - val_accuracy: 0.8200\n",
      "Epoch 94/150\n",
      "200/200 [==============================] - 1s 7ms/step - loss: 0.3633 - accuracy: 0.9256 - val_loss: 0.7706 - val_accuracy: 0.8194\n",
      "Epoch 95/150\n",
      "200/200 [==============================] - 1s 7ms/step - loss: 0.3700 - accuracy: 0.9246 - val_loss: 0.7138 - val_accuracy: 0.8288\n",
      "Epoch 96/150\n",
      "200/200 [==============================] - 1s 6ms/step - loss: 0.3595 - accuracy: 0.9253 - val_loss: 0.7915 - val_accuracy: 0.8069\n",
      "Epoch 97/150\n",
      "200/200 [==============================] - 1s 7ms/step - loss: 0.3538 - accuracy: 0.9267 - val_loss: 0.7522 - val_accuracy: 0.8200\n",
      "Epoch 98/150\n",
      "200/200 [==============================] - 1s 7ms/step - loss: 0.3537 - accuracy: 0.9285 - val_loss: 0.7425 - val_accuracy: 0.8144\n",
      "Epoch 99/150\n",
      "200/200 [==============================] - 1s 6ms/step - loss: 0.3426 - accuracy: 0.9326 - val_loss: 0.7989 - val_accuracy: 0.8025\n",
      "Epoch 100/150\n",
      "200/200 [==============================] - 1s 7ms/step - loss: 0.3433 - accuracy: 0.9337 - val_loss: 0.7902 - val_accuracy: 0.8106\n",
      "Epoch 101/150\n",
      "200/200 [==============================] - 1s 6ms/step - loss: 0.3513 - accuracy: 0.9284 - val_loss: 0.7836 - val_accuracy: 0.8037\n",
      "Epoch 102/150\n",
      "200/200 [==============================] - 1s 7ms/step - loss: 0.3356 - accuracy: 0.9353 - val_loss: 0.7547 - val_accuracy: 0.8263\n",
      "Epoch 103/150\n",
      "200/200 [==============================] - 1s 6ms/step - loss: 0.3348 - accuracy: 0.9343 - val_loss: 0.7706 - val_accuracy: 0.8213\n",
      "Epoch 104/150\n",
      "200/200 [==============================] - 1s 6ms/step - loss: 0.3147 - accuracy: 0.9368 - val_loss: 0.7393 - val_accuracy: 0.8269\n",
      "Epoch 105/150\n",
      "200/200 [==============================] - 1s 6ms/step - loss: 0.3253 - accuracy: 0.9339 - val_loss: 0.8049 - val_accuracy: 0.8106\n",
      "Epoch 106/150\n",
      "200/200 [==============================] - 1s 6ms/step - loss: 0.3397 - accuracy: 0.9331 - val_loss: 0.7562 - val_accuracy: 0.8213\n",
      "Epoch 107/150\n",
      "200/200 [==============================] - 1s 6ms/step - loss: 0.3245 - accuracy: 0.9381 - val_loss: 0.7312 - val_accuracy: 0.8256\n",
      "Epoch 108/150\n",
      "200/200 [==============================] - 1s 6ms/step - loss: 0.3255 - accuracy: 0.9337 - val_loss: 0.7272 - val_accuracy: 0.8350\n",
      "Epoch 109/150\n",
      "200/200 [==============================] - 1s 6ms/step - loss: 0.3151 - accuracy: 0.9411 - val_loss: 0.7527 - val_accuracy: 0.8238\n",
      "Epoch 110/150\n",
      "200/200 [==============================] - 1s 6ms/step - loss: 0.3099 - accuracy: 0.9418 - val_loss: 0.6994 - val_accuracy: 0.8350\n",
      "Epoch 111/150\n",
      "200/200 [==============================] - 1s 7ms/step - loss: 0.3056 - accuracy: 0.9426 - val_loss: 0.7497 - val_accuracy: 0.8225\n",
      "Epoch 112/150\n",
      "112/200 [===============>..............] - ETA: 0s - loss: 0.2894 - accuracy: 0.9470"
     ]
    }
   ]
  },
  {
   "cell_type": "code",
   "execution_count": null,
   "outputs": [],
   "source": [
    "genre_classification_model.save('genre_classification_model.h5')"
   ],
   "metadata": {
    "collapsed": false
   }
  },
  {
   "cell_type": "code",
   "execution_count": null,
   "outputs": [],
   "source": [
    "plot_training_history(training_history, save_path='plots/training_history.png')"
   ],
   "metadata": {
    "collapsed": false
   }
  },
  {
   "cell_type": "code",
   "metadata": {
    "colab": {
     "base_uri": "https://localhost:8080/",
     "height": 641
    },
    "id": "hYW0DB2Qpwx1",
    "outputId": "4b803f9c-8607-4ff9-81fe-fb87cb3d3930"
   },
   "source": [
    "test_loss, test_accuracy = genre_classification_model.evaluate(features_test, labels_test, verbose=1)\n",
    "print('\\nTest accuracy:', test_accuracy)"
   ],
   "execution_count": null,
   "outputs": []
  },
  {
   "cell_type": "code",
   "execution_count": null,
   "outputs": [],
   "source": [
    "predicted_genres = genre_classification_model.predict(features_test)\n",
    "predicted_labels = [np.argmax(i) for i in predicted_genres]\n",
    "\n",
    "print(\"Accuracy on Test Data:\", accuracy_score(labels_test, predicted_labels))\n"
   ],
   "metadata": {
    "collapsed": false
   }
  },
  {
   "cell_type": "code",
   "metadata": {
    "colab": {
     "base_uri": "https://localhost:8080/",
     "height": 459
    },
    "id": "JP-szz7G1DMG",
    "outputId": "1935ab63-9269-4f1a-94eb-c473be3e969b"
   },
   "source": [
    "confusion_matrix = tf.math.confusion_matrix(labels=labels_test, predictions=predicted_labels)\n",
    "genre_labels = ['blues', 'classical', 'country', 'disco', 'hiphop', 'jazz', 'metal', 'pop', 'reggae', 'rock']\n",
    "plot_confusion_matrix(confusion_matrix, genre_labels, save_path='plots/confusion_matrix.png')"
   ],
   "execution_count": null,
   "outputs": []
  },
  {
   "cell_type": "code",
   "metadata": {
    "id": "zy_O2W9crXUo",
    "colab": {
     "base_uri": "https://localhost:8080/"
    },
    "outputId": "a3c82a7f-30d6-4795-f14d-e5ee1e22653c"
   },
   "source": [
    "sample_features = features_test[100]\n",
    "sample_label = labels_test[100]\n",
    "predict_genre(genre_classification_model, sample_features, sample_label)"
   ],
   "execution_count": null,
   "outputs": []
  }
 ]
}
